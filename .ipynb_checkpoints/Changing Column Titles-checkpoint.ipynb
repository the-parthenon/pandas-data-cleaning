{
 "cells": [
  {
   "cell_type": "code",
   "execution_count": 1,
   "id": "f5e56b72",
   "metadata": {},
   "outputs": [],
   "source": [
    "import pandas as pd"
   ]
  },
  {
   "cell_type": "code",
   "execution_count": 2,
   "id": "40c96a8b",
   "metadata": {},
   "outputs": [],
   "source": [
    "data = pd.read_csv('artwork_sample.csv')"
   ]
  },
  {
   "cell_type": "code",
   "execution_count": 3,
   "id": "af9293d3",
   "metadata": {},
   "outputs": [
    {
     "data": {
      "text/plain": [
       "Index(['id', 'accession_number', 'artist', 'artistRole', 'artistId', 'title',\n",
       "       'dateText', 'medium', 'creditLine', 'year', 'acquisitionYear',\n",
       "       'dimensions', 'width', 'height', 'depth', 'units', 'inscription',\n",
       "       'thumbnailCopyright', 'thumbnailUrl', 'url'],\n",
       "      dtype='object')"
      ]
     },
     "execution_count": 3,
     "metadata": {},
     "output_type": "execute_result"
    }
   ],
   "source": [
    "data.columns"
   ]
  },
  {
   "cell_type": "markdown",
   "id": "8aee4d71",
   "metadata": {},
   "source": [
    "#### str.lower() will lowercase all columns at once"
   ]
  },
  {
   "cell_type": "code",
   "execution_count": 5,
   "id": "97be98d3",
   "metadata": {},
   "outputs": [
    {
     "data": {
      "text/plain": [
       "Index(['id', 'accession_number', 'artist', 'artistrole', 'artistid', 'title',\n",
       "       'datetext', 'medium', 'creditline', 'year', 'acquisitionyear',\n",
       "       'dimensions', 'width', 'height', 'depth', 'units', 'inscription',\n",
       "       'thumbnailcopyright', 'thumbnailurl', 'url'],\n",
       "      dtype='object')"
      ]
     },
     "execution_count": 5,
     "metadata": {},
     "output_type": "execute_result"
    }
   ],
   "source": [
    "data.columns.str.lower()"
   ]
  },
  {
   "cell_type": "markdown",
   "id": "15f4d815",
   "metadata": {},
   "source": [
    "#### using a for - in loop does it for each item in the columns array and allows us more flexibility"
   ]
  },
  {
   "cell_type": "code",
   "execution_count": 7,
   "id": "30113606",
   "metadata": {},
   "outputs": [
    {
     "data": {
      "text/plain": [
       "['id',\n",
       " 'accession_number',\n",
       " 'artist',\n",
       " 'artistrole',\n",
       " 'artistid',\n",
       " 'title',\n",
       " 'datetext',\n",
       " 'medium',\n",
       " 'creditline',\n",
       " 'year',\n",
       " 'acquisitionyear',\n",
       " 'dimensions',\n",
       " 'width',\n",
       " 'height',\n",
       " 'depth',\n",
       " 'units',\n",
       " 'inscription',\n",
       " 'thumbnailcopyright',\n",
       " 'thumbnailurl',\n",
       " 'url']"
      ]
     },
     "execution_count": 7,
     "metadata": {},
     "output_type": "execute_result"
    }
   ],
   "source": [
    "[x.lower() for x in data.columns]"
   ]
  },
  {
   "cell_type": "code",
   "execution_count": 8,
   "id": "797491c0",
   "metadata": {},
   "outputs": [
    {
     "data": {
      "text/plain": [
       "Index(['id', 'accession_number', 'artist', 'artistRole', 'artistId', 'title',\n",
       "       'dateText', 'medium', 'creditLine', 'year', 'acquisitionYear',\n",
       "       'dimensions', 'width', 'height', 'depth', 'units', 'inscription',\n",
       "       'thumbnailCopyright', 'thumbnailUrl', 'url'],\n",
       "      dtype='object')"
      ]
     },
     "execution_count": 8,
     "metadata": {},
     "output_type": "execute_result"
    }
   ],
   "source": [
    "data.columns"
   ]
  },
  {
   "cell_type": "markdown",
   "id": "e8d6df7b",
   "metadata": {},
   "source": [
    "#### Changes are not made unless we actually set the value of columns to the change"
   ]
  },
  {
   "cell_type": "code",
   "execution_count": 11,
   "id": "d0bea16c",
   "metadata": {},
   "outputs": [],
   "source": [
    "data.columns = [x.lower() for x in data.columns]"
   ]
  },
  {
   "cell_type": "code",
   "execution_count": 12,
   "id": "b52bcf89",
   "metadata": {},
   "outputs": [
    {
     "data": {
      "text/plain": [
       "Index(['id', 'accession_number', 'artist', 'artistrole', 'artistid', 'title',\n",
       "       'datetext', 'medium', 'creditline', 'year', 'acquisitionyear',\n",
       "       'dimensions', 'width', 'height', 'depth', 'units', 'inscription',\n",
       "       'thumbnailcopyright', 'thumbnailurl', 'url'],\n",
       "      dtype='object')"
      ]
     },
     "execution_count": 12,
     "metadata": {},
     "output_type": "execute_result"
    }
   ],
   "source": [
    "data.columns"
   ]
  },
  {
   "cell_type": "code",
   "execution_count": 13,
   "id": "b4dfea31",
   "metadata": {},
   "outputs": [],
   "source": [
    "data = pd.read_csv('artwork_sample.csv') #resetting the columns"
   ]
  },
  {
   "cell_type": "code",
   "execution_count": 17,
   "id": "b0354577",
   "metadata": {},
   "outputs": [],
   "source": [
    "data.columns = map(lambda x: x.lower(), data.columns) #using map instead of for-in"
   ]
  },
  {
   "cell_type": "code",
   "execution_count": 18,
   "id": "479edf5b",
   "metadata": {},
   "outputs": [
    {
     "data": {
      "text/plain": [
       "Index(['id', 'accession_number', 'artist', 'artistrole', 'artistid', 'title',\n",
       "       'datetext', 'medium', 'creditline', 'year', 'acquisitionyear',\n",
       "       'dimensions', 'width', 'height', 'depth', 'units', 'inscription',\n",
       "       'thumbnailcopyright', 'thumbnailurl', 'url'],\n",
       "      dtype='object')"
      ]
     },
     "execution_count": 18,
     "metadata": {},
     "output_type": "execute_result"
    }
   ],
   "source": [
    "data.columns"
   ]
  },
  {
   "cell_type": "code",
   "execution_count": 19,
   "id": "0696a9d6",
   "metadata": {},
   "outputs": [],
   "source": [
    "data = pd.read_csv('artwork_sample.csv') #resetting the columns"
   ]
  },
  {
   "cell_type": "code",
   "execution_count": 20,
   "id": "7aa0470b",
   "metadata": {},
   "outputs": [
    {
     "data": {
      "text/plain": [
       "Index(['id', 'accession_number', 'artist', 'artistRole', 'artistId', 'title',\n",
       "       'dateText', 'medium', 'creditLine', 'year', 'acquisitionYear',\n",
       "       'dimensions', 'width', 'height', 'depth', 'units', 'inscription',\n",
       "       'thumbnailCopyright', 'thumbnailUrl', 'url'],\n",
       "      dtype='object')"
      ]
     },
     "execution_count": 20,
     "metadata": {},
     "output_type": "execute_result"
    }
   ],
   "source": [
    "data.columns"
   ]
  },
  {
   "cell_type": "code",
   "execution_count": 21,
   "id": "598fb72b",
   "metadata": {},
   "outputs": [],
   "source": [
    "import re"
   ]
  },
  {
   "cell_type": "markdown",
   "id": "04693b5e",
   "metadata": {},
   "source": [
    "#### Here we are using for in to identify any upper case letter, add an underscore before it and then lowercase the whole string, which results in all column names becoming snake case"
   ]
  },
  {
   "cell_type": "code",
   "execution_count": 23,
   "id": "e9218c20",
   "metadata": {},
   "outputs": [],
   "source": [
    "data.columns = [re.sub(r'([A-Z])', r'_\\1', x).lower() for x in data.columns]"
   ]
  },
  {
   "cell_type": "code",
   "execution_count": 24,
   "id": "ab1a3ee3",
   "metadata": {},
   "outputs": [
    {
     "data": {
      "text/plain": [
       "Index(['id', 'accession_number', 'artist', 'artist_role', 'artist_id', 'title',\n",
       "       'date_text', 'medium', 'credit_line', 'year', 'acquisition_year',\n",
       "       'dimensions', 'width', 'height', 'depth', 'units', 'inscription',\n",
       "       'thumbnail_copyright', 'thumbnail_url', 'url'],\n",
       "      dtype='object')"
      ]
     },
     "execution_count": 24,
     "metadata": {},
     "output_type": "execute_result"
    }
   ],
   "source": [
    "data.columns"
   ]
  },
  {
   "cell_type": "code",
   "execution_count": null,
   "id": "4aaf46f6",
   "metadata": {},
   "outputs": [],
   "source": []
  }
 ],
 "metadata": {
  "kernelspec": {
   "display_name": "Python 3 (ipykernel)",
   "language": "python",
   "name": "python3"
  },
  "language_info": {
   "codemirror_mode": {
    "name": "ipython",
    "version": 3
   },
   "file_extension": ".py",
   "mimetype": "text/x-python",
   "name": "python",
   "nbconvert_exporter": "python",
   "pygments_lexer": "ipython3",
   "version": "3.9.7"
  }
 },
 "nbformat": 4,
 "nbformat_minor": 5
}
